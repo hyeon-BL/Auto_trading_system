{
 "cells": [
  {
   "cell_type": "code",
   "execution_count": 9,
   "metadata": {},
   "outputs": [],
   "source": [
    "import pyupbit"
   ]
  },
  {
   "cell_type": "code",
   "execution_count": 10,
   "metadata": {},
   "outputs": [
    {
     "data": {
      "text/plain": [
       "dict_keys(['market', 'timestamp', 'total_ask_size', 'total_bid_size', 'orderbook_units', 'level'])"
      ]
     },
     "execution_count": 10,
     "metadata": {},
     "output_type": "execute_result"
    }
   ],
   "source": [
    "r = pyupbit.get_orderbook(\"KRW-BTC\")\n",
    "r.keys()"
   ]
  },
  {
   "cell_type": "code",
   "execution_count": 11,
   "metadata": {},
   "outputs": [
    {
     "data": {
      "text/plain": [
       "2024.1650505156963"
      ]
     },
     "execution_count": 11,
     "metadata": {},
     "output_type": "execute_result"
    }
   ],
   "source": [
    "r['timestamp']/1000 / 60 / 60 / 24 / 365 + 1970 # 1970년 1월 1일부터 현재까지의 시간을 밀리세컨드로 나타낸걸 이용해 현재 연도를 구함"
   ]
  },
  {
   "cell_type": "code",
   "execution_count": 14,
   "metadata": {},
   "outputs": [
    {
     "data": {
      "text/plain": [
       "Timestamp('2024-02-17 05:50:33.063000+0000', tz='UTC')"
      ]
     },
     "execution_count": 14,
     "metadata": {},
     "output_type": "execute_result"
    }
   ],
   "source": [
    "import pandas as pd\n",
    "t = pd.to_datetime(r['timestamp'], unit='ms', utc=True) # 밀리세컨드를 날짜로 변환(UTC 기준)\n",
    "t"
   ]
  },
  {
   "cell_type": "code",
   "execution_count": 15,
   "metadata": {},
   "outputs": [
    {
     "data": {
      "text/plain": [
       "Timestamp('2024-02-17 14:50:33.063000+0900', tz='Asia/Seoul')"
      ]
     },
     "execution_count": 15,
     "metadata": {},
     "output_type": "execute_result"
    }
   ],
   "source": [
    "t.tz_convert('Asia/Seoul') # UTC를 한국 시간으로 변환"
   ]
  },
  {
   "cell_type": "code",
   "execution_count": 16,
   "metadata": {},
   "outputs": [
    {
     "name": "stdout",
     "output_type": "stream",
     "text": [
      "2024-02-17 14:51:28.404977\n"
     ]
    }
   ],
   "source": [
    "import datetime\n",
    "print(datetime.datetime.now()) # 현재 시간을 출력 # timestamp와 비교해보면 9시간 차이가 남"
   ]
  },
  {
   "cell_type": "markdown",
   "metadata": {},
   "source": [
    "*Orderbook_units*"
   ]
  },
  {
   "cell_type": "code",
   "execution_count": 25,
   "metadata": {},
   "outputs": [
    {
     "name": "stdout",
     "output_type": "stream",
     "text": [
      "72101000 0.00018000\n",
      "72100000 0.16499681\n",
      "72099000 0.01654320\n",
      "72085000 0.46920000\n",
      "72079000 0.00944207\n",
      "72075000 0.03495574\n",
      "72070000 0.00732723\n",
      "72069000 0.02646040\n",
      "72060000 0.63384269\n",
      "72054000 0.60787110\n",
      "72045000 0.28460182\n",
      "72044000 0.24456392\n",
      "72036000 0.41537796\n",
      "72032000 0.33916921\n",
      "72031000 0.04848029\n"
     ]
    }
   ],
   "source": [
    "for a in r['orderbook_units'] [::-1]:\n",
    "    print(a['ask_price'], f\"{a['ask_size']:.8f}\")"
   ]
  },
  {
   "cell_type": "code",
   "execution_count": 20,
   "metadata": {},
   "outputs": [
    {
     "name": "stdout",
     "output_type": "stream",
     "text": [
      "72030000 0.03211954\n",
      "72029000 0.00064332\n",
      "72028000 0.00041649\n",
      "72027000 0.01565721\n",
      "72025000 0.10329796\n",
      "72024000 0.02355794\n",
      "72022000 0.01805642\n",
      "72021000 0.00067883\n",
      "72020000 0.02139572\n",
      "72019000 0.87798975\n",
      "72018000 0.15899726\n",
      "72017000 0.76281423\n",
      "72016000 0.03460612\n",
      "72015000 0.03546147\n",
      "72014000 0.00973476\n"
     ]
    }
   ],
   "source": [
    "for a in r['orderbook_units']:\n",
    "    print(a['bid_price'], a['bid_size'])"
   ]
  }
 ],
 "metadata": {
  "kernelspec": {
   "display_name": "Python py3-TF2.8",
   "language": "python",
   "name": "py3-tf2.0"
  },
  "language_info": {
   "codemirror_mode": {
    "name": "ipython",
    "version": 3
   },
   "file_extension": ".py",
   "mimetype": "text/x-python",
   "name": "python",
   "nbconvert_exporter": "python",
   "pygments_lexer": "ipython3",
   "version": "3.11.5"
  }
 },
 "nbformat": 4,
 "nbformat_minor": 2
}
